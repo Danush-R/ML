{
  "nbformat": 4,
  "nbformat_minor": 0,
  "metadata": {
    "colab": {
      "private_outputs": true,
      "provenance": []
    },
    "kernelspec": {
      "name": "python3",
      "display_name": "Python 3"
    },
    "language_info": {
      "name": "python"
    }
  },
  "cells": [
    {
      "cell_type": "markdown",
      "source": [
        "#Feature Selection Advanced House Price Prediction\n",
        "\n",
        "The main aim of this project is to predict the house price based on various features which we will discuss as we go ahead\n",
        "\n",
        "Dataset to downloaded from the below link\n",
        "https://www.kaggle.com/c/house-prices-advanced-regression-techniques/data"
      ],
      "metadata": {
        "id": "D91ZqqIRv7F8"
      }
    },
    {
      "cell_type": "code",
      "source": [
        "import pandas as pd\n",
        "import numpy as np\n",
        "\n",
        "import matplotlib.pyplot as plt\n",
        "%matplotlib inline"
      ],
      "metadata": {
        "id": "1UpcHYGmkujH"
      },
      "execution_count": null,
      "outputs": []
    },
    {
      "cell_type": "code",
      "source": [
        "## for feature slection\n",
        "\n",
        "from sklearn.linear_model import Lasso\n",
        "from sklearn.feature_selection import SelectFromModel\n",
        "\n",
        "# to visualise al the columns in the dataframe\n",
        "pd.pandas.set_option('display.max_columns', None)"
      ],
      "metadata": {
        "id": "d5BNoWTqkyP5"
      },
      "execution_count": null,
      "outputs": []
    },
    {
      "cell_type": "code",
      "source": [
        "dataset=pd.read_csv('X_train.csv')\n",
        "dataset.head()"
      ],
      "metadata": {
        "id": "2IlfROrXk6a7"
      },
      "execution_count": null,
      "outputs": []
    },
    {
      "cell_type": "code",
      "source": [
        "## Capture the dependent feature\n",
        "y_train=dataset[['SalePrice']]"
      ],
      "metadata": {
        "id": "HzfAW5nfk87t"
      },
      "execution_count": null,
      "outputs": []
    },
    {
      "cell_type": "code",
      "source": [
        "## drop dependent feature from dataset\n",
        "X_train=dataset.drop(['Id','SalePrice'],axis=1)"
      ],
      "metadata": {
        "id": "TzjS_C4yk_7a"
      },
      "execution_count": null,
      "outputs": []
    },
    {
      "cell_type": "code",
      "source": [
        "### Apply Feature Selection\n",
        "# first, I specify the Lasso Regression model, and I\n",
        "# select a suitable alpha (equivalent of penalty).\n",
        "# The bigger the alpha the less features that will be selected.\n",
        "\n",
        "# Then I use the selectFromModel object from sklearn, which\n",
        "# will select the features which coefficients are non-zero\n",
        "\n",
        "feature_sel_model = SelectFromModel(Lasso(alpha=0.005, random_state=0)) # remember to set the seed, the random state in this function\n",
        "feature_sel_model.fit(X_train, y_train)"
      ],
      "metadata": {
        "id": "x0L5kuvrlGzN"
      },
      "execution_count": null,
      "outputs": []
    },
    {
      "cell_type": "code",
      "source": [
        "feature_sel_model.get_support()"
      ],
      "metadata": {
        "id": "P5pjeqwgmRfY"
      },
      "execution_count": null,
      "outputs": []
    },
    {
      "cell_type": "code",
      "source": [
        "# let's print the number of total and selected features\n",
        "\n",
        "# this is how we can make a list of the selected features\n",
        "selected_feat = X_train.columns[(feature_sel_model.get_support())]\n",
        "\n",
        "# let's print some stats\n",
        "print('total features: {}'.format((X_train.shape[1])))\n",
        "print('selected features: {}'.format(len(selected_feat)))\n",
        "print('features with coefficients shrank to zero: {}'.format(\n",
        "    np.sum(feature_sel_model.estimator_.coef_ == 0)))"
      ],
      "metadata": {
        "id": "SHT976R7miKF"
      },
      "execution_count": null,
      "outputs": []
    },
    {
      "cell_type": "code",
      "source": [
        "selected_feat"
      ],
      "metadata": {
        "id": "BVjTLy60nnye"
      },
      "execution_count": null,
      "outputs": []
    },
    {
      "cell_type": "code",
      "source": [
        "X_train[selected_feat].head()"
      ],
      "metadata": {
        "id": "MSplihWenqWN"
      },
      "execution_count": null,
      "outputs": []
    },
    {
      "cell_type": "code",
      "source": [
        "X_train.head()"
      ],
      "metadata": {
        "id": "CsnXlc4xnyly"
      },
      "execution_count": null,
      "outputs": []
    }
  ]
}