{
  "nbformat": 4,
  "nbformat_minor": 0,
  "metadata": {
    "colab": {
      "private_outputs": true,
      "provenance": []
    },
    "kernelspec": {
      "name": "python3",
      "display_name": "Python 3"
    },
    "language_info": {
      "name": "python"
    }
  },
  "cells": [
    {
      "cell_type": "markdown",
      "source": [
        "##Building Machine Learning Pipelines: Data Analysis Phase##\n",
        "\n",
        "In this and the upcoming videos we will focus on creating Machine Learning Pipelines considering all the life cycle of a Data Science Projects. This will be important for professionals who have not worked with huge dataset."
      ],
      "metadata": {
        "id": "Mg7k_TYNibtS"
      }
    },
    {
      "cell_type": "markdown",
      "source": [
        "##Project Name: House Prices: Advanced Regression Techniques##\n",
        "\n",
        "The main aim of this project is to predict the house price based on various features which we will discuss as we go ahead\n",
        "\n",
        "Dataset to downloaded from the below link\n",
        "\n",
        "https://www.kaggle.com/c/house-prices-advanced-regression-techniques/data"
      ],
      "metadata": {
        "id": "4E0Y8dwHinIV"
      }
    },
    {
      "cell_type": "markdown",
      "source": [
        "##All the Lifecycle In A Data Science Projects##\n",
        "\n",
        "* Data Analysis\n",
        "* Feature Engineering\n",
        "* Feature Selection\n",
        "* Model Building\n",
        "* Model Deployment\n",
        "\n"
      ],
      "metadata": {
        "id": "e9nj0GWsjbI2"
      }
    },
    {
      "cell_type": "code",
      "execution_count": null,
      "metadata": {
        "id": "KUI6uJBPh6zd"
      },
      "outputs": [],
      "source": [
        "## Data Analysis Phase\n",
        "## MAin aim is to understand more about the data\n",
        "\n",
        "import pandas as pd\n",
        "import numpy as np\n",
        "import matplotlib.pyplot as plt\n",
        "%matplotlib inline\n",
        "import seaborn as sns\n"
      ]
    },
    {
      "cell_type": "code",
      "source": [
        "## Display all the columns of the dataframe\n",
        "pd.pandas.set_option('display.max_columns',None)"
      ],
      "metadata": {
        "id": "Z3BDbvRTietG"
      },
      "execution_count": null,
      "outputs": []
    },
    {
      "cell_type": "code",
      "source": [
        "dataset=pd.read_csv('train.csv')\n",
        "\n",
        "dataset.shape"
      ],
      "metadata": {
        "id": "td9p8DHZjy2T"
      },
      "execution_count": null,
      "outputs": []
    },
    {
      "cell_type": "code",
      "source": [
        "dataset.head()"
      ],
      "metadata": {
        "id": "ys0Gi_2jjyso"
      },
      "execution_count": null,
      "outputs": []
    },
    {
      "cell_type": "markdown",
      "source": [
        "In Data Analysis We will Analyze To Find out the below stuff\n",
        "\n",
        "Missing Values\n",
        "\n",
        "All The Numerical Variables\n",
        "\n",
        "Distribution of the Numerical Variables\n",
        "\n",
        "Categorical Variables\n",
        "\n",
        "Cardinality of Categorical Variables\n",
        "\n",
        "Outliers\n",
        "\n",
        "Relationship between independent and dependent feature\n",
        "\n",
        "(SalePrice)"
      ],
      "metadata": {
        "id": "d-9HA8M6kTOO"
      }
    },
    {
      "cell_type": "code",
      "source": [
        "## Here we will check the percentage of nan values present in each feature\n",
        "## 1 -step make the list of features which has missing values\n",
        "features_with_na=[features for features in dataset.columns if dataset[features].isnull().sum()>1]"
      ],
      "metadata": {
        "id": "u6rw3C9SkPug"
      },
      "execution_count": null,
      "outputs": []
    },
    {
      "cell_type": "code",
      "source": [
        "## 2- step print the feature name and the percentage of missing values\n",
        "for feature in features_with_na:\n",
        "    print(feature, np.round(dataset[feature].isnull().mean(), 4),  ' % missing values')"
      ],
      "metadata": {
        "id": "MJT3Qu1UkPrL"
      },
      "execution_count": null,
      "outputs": []
    },
    {
      "cell_type": "markdown",
      "source": [
        "Since they are many missing values, we need to find the relationship between missing values and Sales Price\n",
        "\n",
        "Let's plot some diagram for this relationship"
      ],
      "metadata": {
        "id": "4J4tKnIOk6lp"
      }
    },
    {
      "cell_type": "code",
      "source": [
        "for feature in features_with_na:\n",
        "    data = dataset.copy()\n",
        "\n",
        "    # let's make a variable that indicates 1 if the observation was missing or zero otherwise\n",
        "    data[feature] = np.where(data[feature].isnull(), 1, 0)\n",
        "\n",
        "    # let's calculate the mean SalePrice where the information is missing or present\n",
        "    data.groupby(feature)['SalePrice'].median().plot.bar()\n",
        "    plt.title(feature)\n",
        "    plt.show()"
      ],
      "metadata": {
        "id": "K1soq0SbkPo7"
      },
      "execution_count": null,
      "outputs": []
    },
    {
      "cell_type": "markdown",
      "source": [
        "Here With the relation between the missing values and the dependent variable is clearly visible.So We need to replace these nan values with something meaningful which we will do in the Feature Engineering section\n",
        "\n",
        "From the above dataset some of the features like Id is not required"
      ],
      "metadata": {
        "id": "fJnmOKxjlays"
      }
    },
    {
      "cell_type": "code",
      "source": [
        "print(\"Id of Houses {}\".format(len(dataset.Id)))"
      ],
      "metadata": {
        "id": "YV4dgxRBkPmX"
      },
      "execution_count": null,
      "outputs": []
    },
    {
      "cell_type": "markdown",
      "source": [
        "Numerical Variables\n"
      ],
      "metadata": {
        "id": "f05wkxxKl6Iu"
      }
    },
    {
      "cell_type": "code",
      "source": [
        "# list of numerical variables\n",
        "numerical_features = [feature for feature in dataset.columns if dataset[feature].dtypes != 'O']\n",
        "print('Number of numerical variables: ', len(numerical_features))\n"
      ],
      "metadata": {
        "id": "BQnaZJMFl3rg"
      },
      "execution_count": null,
      "outputs": []
    },
    {
      "cell_type": "code",
      "source": [
        "# visualise the numerical variables\n",
        "dataset[numerical_features].head()"
      ],
      "metadata": {
        "id": "uMg1XbP8mlgU"
      },
      "execution_count": null,
      "outputs": []
    },
    {
      "cell_type": "markdown",
      "source": [
        "Temporal Variables(Eg: Datetime Variables)\n",
        "\n",
        "From the Dataset we have 4 year variables. We have extract information from the datetime variables like no of years or no of days. One example in this specific scenario can be difference in years between the year the house was built and the year the house was sold. We will be performing this analysis in the Feature Engineering which is the next video."
      ],
      "metadata": {
        "id": "xKwM0n4qmrWY"
      }
    },
    {
      "cell_type": "code",
      "source": [
        "# list of variables that contain year information\n",
        "year_feature = [feature for feature in numerical_features if 'Yr' in feature or 'Year' in feature]\n",
        "year_feature"
      ],
      "metadata": {
        "id": "3mr8Yw8hmtP6"
      },
      "execution_count": null,
      "outputs": []
    },
    {
      "cell_type": "code",
      "source": [
        "# let's explore the content of these year variables\n",
        "for feature in year_feature:\n",
        "    print(feature, dataset[feature].unique())"
      ],
      "metadata": {
        "id": "tiDfjGhhnII-"
      },
      "execution_count": null,
      "outputs": []
    },
    {
      "cell_type": "code",
      "source": [
        "## Lets analyze the Temporal Datetime Variables\n",
        "## We will check whether there is a relation between year the house is sold and the sales price\n",
        "\n",
        "dataset.groupby('YrSold')['SalePrice'].median().plot()\n",
        "plt.xlabel('Year Sold')\n",
        "plt.ylabel('Median House Price')\n",
        "plt.title(\"House Price vs YearSold\")"
      ],
      "metadata": {
        "id": "RghuM3YDniDF"
      },
      "execution_count": null,
      "outputs": []
    },
    {
      "cell_type": "code",
      "source": [
        "year_feature"
      ],
      "metadata": {
        "id": "am1ul1hLnxYm"
      },
      "execution_count": null,
      "outputs": []
    },
    {
      "cell_type": "code",
      "source": [
        "for feature in year_feature:\n",
        "  if feature!='Yrsold':\n",
        "    data=dataset.copy()\n",
        "    ## We will capture the difference between year variable and year the house was sold for\n",
        "    data[feature]=data['YrSold']-data[feature]\n",
        "    plt.scatter(data[feature],data['SalePrice'])\n",
        "    plt.xlabel(feature)\n",
        "    plt.ylabel('SalePrice')\n",
        "    plt.show()\n",
        "\n",
        "\n"
      ],
      "metadata": {
        "id": "xLun3nZxnxHr"
      },
      "execution_count": null,
      "outputs": []
    },
    {
      "cell_type": "code",
      "source": [
        "## Numerical variables are usually of 2 type\n",
        "## 1. Continous variable and Discrete Variables\n",
        "\n",
        "discrete_feature=[feature for feature in numerical_features if len(dataset[feature].unique())<25 and feature not in year_feature+['Id']]\n",
        "print(\"Discrete Variables Count: {}\".format(len(discrete_feature)))"
      ],
      "metadata": {
        "id": "V_AjKaAUn6JK"
      },
      "execution_count": null,
      "outputs": []
    },
    {
      "cell_type": "code",
      "source": [
        "discrete_feature"
      ],
      "metadata": {
        "id": "OOcLwTNUozYu"
      },
      "execution_count": null,
      "outputs": []
    },
    {
      "cell_type": "code",
      "source": [
        "dataset[discrete_feature].head()"
      ],
      "metadata": {
        "id": "ceED3fEhpPy7"
      },
      "execution_count": null,
      "outputs": []
    },
    {
      "cell_type": "code",
      "source": [
        "## Lets Find the realtionship between them and Sale PRice\n",
        "\n",
        "for feature in discrete_feature:\n",
        "    data=dataset.copy()\n",
        "    data.groupby(feature)['SalePrice'].median().plot.bar()\n",
        "    plt.xlabel(feature)\n",
        "    plt.ylabel('SalePrice')\n",
        "    plt.title(feature)\n",
        "    plt.show()"
      ],
      "metadata": {
        "id": "T6SesJenpWYR"
      },
      "execution_count": null,
      "outputs": []
    },
    {
      "cell_type": "code",
      "source": [
        "## There is a relationship between variable number and SalePrice"
      ],
      "metadata": {
        "id": "kvgYJEOOpoZb"
      },
      "execution_count": null,
      "outputs": []
    },
    {
      "cell_type": "markdown",
      "source": [
        "##Continuous Variable##"
      ],
      "metadata": {
        "id": "iO2Y7hCkpxgG"
      }
    },
    {
      "cell_type": "code",
      "source": [
        "continuous_feature=[feature for feature in numerical_features if feature not in discrete_feature+year_feature+['Id']]\n",
        "print(\"Continuous feature Count {}\".format(len(continuous_feature)))"
      ],
      "metadata": {
        "id": "tn02UMnGpzau"
      },
      "execution_count": null,
      "outputs": []
    },
    {
      "cell_type": "code",
      "source": [
        "continuous_feature"
      ],
      "metadata": {
        "id": "o9dd3Vyvp3YP"
      },
      "execution_count": null,
      "outputs": []
    },
    {
      "cell_type": "code",
      "source": [
        "dataset[continuous_feature].head()"
      ],
      "metadata": {
        "id": "78YWfwCBp6CV"
      },
      "execution_count": null,
      "outputs": []
    },
    {
      "cell_type": "code",
      "source": [
        "## Lets analyse the continuous values by creating histograms to understand the distribution\n",
        "\n",
        "for feature in continuous_feature:\n",
        "    data=dataset.copy()\n",
        "    data[feature].hist(bins=25)\n",
        "    plt.xlabel(feature)\n",
        "    plt.ylabel(\"Count\")\n",
        "    plt.title(feature)\n",
        "    plt.show()"
      ],
      "metadata": {
        "id": "-RE90pYlqCIJ"
      },
      "execution_count": null,
      "outputs": []
    }
  ]
}